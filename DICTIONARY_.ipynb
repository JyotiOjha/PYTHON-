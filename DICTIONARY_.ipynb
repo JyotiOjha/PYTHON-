{
 "cells": [
  {
   "cell_type": "markdown",
   "id": "91046f3f",
   "metadata": {},
   "source": [
    "DICTIONARY \n",
    "   1. Construction of dictionary\n",
    "   2. Accessing objects\n",
    "   3. Nesting\n",
    "   4. Keys,Values,Items "
   ]
  },
  {
   "cell_type": "code",
   "execution_count": 1,
   "id": "1e353298",
   "metadata": {},
   "outputs": [],
   "source": [
    "d={\"key1\":\"value1\",\"key2\":\"value2\"}"
   ]
  },
  {
   "cell_type": "code",
   "execution_count": 2,
   "id": "11d03916",
   "metadata": {},
   "outputs": [
    {
     "data": {
      "text/plain": [
       "{'key1': 'value1', 'key2': 'value2'}"
      ]
     },
     "execution_count": 2,
     "metadata": {},
     "output_type": "execute_result"
    }
   ],
   "source": [
    "d"
   ]
  },
  {
   "cell_type": "code",
   "execution_count": 3,
   "id": "a036d4d1",
   "metadata": {},
   "outputs": [
    {
     "name": "stdout",
     "output_type": "stream",
     "text": [
      "<class 'dict'>\n"
     ]
    }
   ],
   "source": [
    "print(type(d))"
   ]
  },
  {
   "cell_type": "code",
   "execution_count": 4,
   "id": "4d22d5ed",
   "metadata": {},
   "outputs": [],
   "source": [
    "a={\"Jyoti\":\"19\",\"Ambuj\":\"20\"}"
   ]
  },
  {
   "cell_type": "code",
   "execution_count": 5,
   "id": "e259af11",
   "metadata": {},
   "outputs": [],
   "source": [
    "#Addition of key-value pair\n",
    "a[\"Vishesh\"]=\"20\""
   ]
  },
  {
   "cell_type": "code",
   "execution_count": 6,
   "id": "a99c721a",
   "metadata": {},
   "outputs": [
    {
     "data": {
      "text/plain": [
       "{'Jyoti': '19', 'Ambuj': '20', 'Vishesh': '20'}"
      ]
     },
     "execution_count": 6,
     "metadata": {},
     "output_type": "execute_result"
    }
   ],
   "source": [
    "a"
   ]
  },
  {
   "cell_type": "code",
   "execution_count": 7,
   "id": "c61c6b13",
   "metadata": {},
   "outputs": [
    {
     "data": {
      "text/plain": [
       "'19'"
      ]
     },
     "execution_count": 7,
     "metadata": {},
     "output_type": "execute_result"
    }
   ],
   "source": [
    "#Accessing values\n",
    "a[\"Jyoti\"]"
   ]
  },
  {
   "cell_type": "code",
   "execution_count": 8,
   "id": "214ca218",
   "metadata": {},
   "outputs": [],
   "source": [
    "b=a"
   ]
  },
  {
   "cell_type": "code",
   "execution_count": 9,
   "id": "5560ca6b",
   "metadata": {},
   "outputs": [
    {
     "data": {
      "text/plain": [
       "{'Jyoti': '19', 'Ambuj': '20', 'Vishesh': '20'}"
      ]
     },
     "execution_count": 9,
     "metadata": {},
     "output_type": "execute_result"
    }
   ],
   "source": [
    "b"
   ]
  },
  {
   "cell_type": "code",
   "execution_count": 10,
   "id": "228161d4",
   "metadata": {},
   "outputs": [],
   "source": [
    "\n",
    "b[\"Devesh\"]=\"19\""
   ]
  },
  {
   "cell_type": "code",
   "execution_count": 11,
   "id": "f95b9d19",
   "metadata": {},
   "outputs": [
    {
     "data": {
      "text/plain": [
       "{'Jyoti': '19', 'Ambuj': '20', 'Vishesh': '20', 'Devesh': '19'}"
      ]
     },
     "execution_count": 11,
     "metadata": {},
     "output_type": "execute_result"
    }
   ],
   "source": [
    "#Any change made in b is also refected in a\n",
    "a"
   ]
  },
  {
   "cell_type": "code",
   "execution_count": 12,
   "id": "2a97dcad",
   "metadata": {},
   "outputs": [],
   "source": [
    "b=a.copy()"
   ]
  },
  {
   "cell_type": "code",
   "execution_count": 13,
   "id": "cc9af241",
   "metadata": {},
   "outputs": [
    {
     "data": {
      "text/plain": [
       "{'Jyoti': '19', 'Ambuj': '20', 'Vishesh': '20', 'Devesh': '19'}"
      ]
     },
     "execution_count": 13,
     "metadata": {},
     "output_type": "execute_result"
    }
   ],
   "source": [
    "b"
   ]
  },
  {
   "cell_type": "code",
   "execution_count": 14,
   "id": "22aafa96",
   "metadata": {},
   "outputs": [],
   "source": [
    "b[\"Shivani\"]=\"19\""
   ]
  },
  {
   "cell_type": "code",
   "execution_count": 15,
   "id": "de6e6d1c",
   "metadata": {},
   "outputs": [
    {
     "data": {
      "text/plain": [
       "{'Jyoti': '19',\n",
       " 'Ambuj': '20',\n",
       " 'Vishesh': '20',\n",
       " 'Devesh': '19',\n",
       " 'Shivani': '19'}"
      ]
     },
     "execution_count": 15,
     "metadata": {},
     "output_type": "execute_result"
    }
   ],
   "source": [
    "b"
   ]
  },
  {
   "cell_type": "code",
   "execution_count": 17,
   "id": "4f330a73",
   "metadata": {},
   "outputs": [
    {
     "data": {
      "text/plain": [
       "{'Jyoti': '19', 'Ambuj': '20', 'Vishesh': '20', 'Devesh': '19'}"
      ]
     },
     "execution_count": 17,
     "metadata": {},
     "output_type": "execute_result"
    }
   ],
   "source": [
    "#Changes made in b are not reflected in a\n",
    "a"
   ]
  },
  {
   "cell_type": "code",
   "execution_count": 18,
   "id": "85471bdb",
   "metadata": {},
   "outputs": [
    {
     "data": {
      "text/plain": [
       "dict_keys(['Jyoti', 'Ambuj', 'Vishesh', 'Devesh', 'Shivani'])"
      ]
     },
     "execution_count": 18,
     "metadata": {},
     "output_type": "execute_result"
    }
   ],
   "source": [
    "b.keys()"
   ]
  },
  {
   "cell_type": "code",
   "execution_count": 19,
   "id": "125b1be4",
   "metadata": {},
   "outputs": [
    {
     "data": {
      "text/plain": [
       "dict_values(['19', '20', '20', '19', '19'])"
      ]
     },
     "execution_count": 19,
     "metadata": {},
     "output_type": "execute_result"
    }
   ],
   "source": [
    "b.values()"
   ]
  },
  {
   "cell_type": "code",
   "execution_count": 20,
   "id": "27884e04",
   "metadata": {},
   "outputs": [
    {
     "data": {
      "text/plain": [
       "dict_items([('Jyoti', '19'), ('Ambuj', '20'), ('Vishesh', '20'), ('Devesh', '19'), ('Shivani', '19')])"
      ]
     },
     "execution_count": 20,
     "metadata": {},
     "output_type": "execute_result"
    }
   ],
   "source": [
    "b.items()"
   ]
  },
  {
   "cell_type": "code",
   "execution_count": 21,
   "id": "5f507de6",
   "metadata": {},
   "outputs": [],
   "source": [
    "#Deletion of key-value pair \n",
    "del b[\"Jyoti\"]"
   ]
  },
  {
   "cell_type": "code",
   "execution_count": 22,
   "id": "f28ec57d",
   "metadata": {},
   "outputs": [
    {
     "data": {
      "text/plain": [
       "{'Ambuj': '20', 'Vishesh': '20', 'Devesh': '19', 'Shivani': '19'}"
      ]
     },
     "execution_count": 22,
     "metadata": {},
     "output_type": "execute_result"
    }
   ],
   "source": [
    "b"
   ]
  },
  {
   "cell_type": "code",
   "execution_count": 23,
   "id": "13fb6a6b",
   "metadata": {},
   "outputs": [],
   "source": [
    "#Nesting\n",
    "e = {\"A\":{\"a\":1}}"
   ]
  },
  {
   "cell_type": "code",
   "execution_count": 24,
   "id": "f3c1c94a",
   "metadata": {},
   "outputs": [
    {
     "data": {
      "text/plain": [
       "{'A': {'a': 1}}"
      ]
     },
     "execution_count": 24,
     "metadata": {},
     "output_type": "execute_result"
    }
   ],
   "source": [
    "e"
   ]
  },
  {
   "cell_type": "code",
   "execution_count": 25,
   "id": "e0ef1cc6",
   "metadata": {},
   "outputs": [],
   "source": [
    "e[\"B\"]=\"2\""
   ]
  },
  {
   "cell_type": "code",
   "execution_count": 26,
   "id": "662ac1f2",
   "metadata": {},
   "outputs": [
    {
     "data": {
      "text/plain": [
       "{'A': {'a': 1}, 'B': '2'}"
      ]
     },
     "execution_count": 26,
     "metadata": {},
     "output_type": "execute_result"
    }
   ],
   "source": [
    "e"
   ]
  },
  {
   "cell_type": "code",
   "execution_count": 27,
   "id": "66e83d45",
   "metadata": {},
   "outputs": [
    {
     "data": {
      "text/plain": [
       "dict_values([{'a': 1}, '2'])"
      ]
     },
     "execution_count": 27,
     "metadata": {},
     "output_type": "execute_result"
    }
   ],
   "source": [
    "e.values()"
   ]
  },
  {
   "cell_type": "code",
   "execution_count": 28,
   "id": "a3c67896",
   "metadata": {},
   "outputs": [
    {
     "data": {
      "text/plain": [
       "dict_keys(['A', 'B'])"
      ]
     },
     "execution_count": 28,
     "metadata": {},
     "output_type": "execute_result"
    }
   ],
   "source": [
    "e.keys()"
   ]
  },
  {
   "cell_type": "code",
   "execution_count": 29,
   "id": "dfb7d56f",
   "metadata": {},
   "outputs": [],
   "source": [
    "f={}"
   ]
  },
  {
   "cell_type": "code",
   "execution_count": 30,
   "id": "1ba5df88",
   "metadata": {},
   "outputs": [],
   "source": [
    "f[\"fruit\"]=\"Apple\""
   ]
  },
  {
   "cell_type": "code",
   "execution_count": 31,
   "id": "ae779952",
   "metadata": {},
   "outputs": [
    {
     "data": {
      "text/plain": [
       "{'fruit': 'Apple'}"
      ]
     },
     "execution_count": 31,
     "metadata": {},
     "output_type": "execute_result"
    }
   ],
   "source": [
    "f"
   ]
  },
  {
   "cell_type": "code",
   "execution_count": 32,
   "id": "451d3187",
   "metadata": {},
   "outputs": [],
   "source": [
    "f[\"4\"]=\"Four\""
   ]
  },
  {
   "cell_type": "code",
   "execution_count": 33,
   "id": "db3f0f3c",
   "metadata": {},
   "outputs": [
    {
     "data": {
      "text/plain": [
       "{'fruit': 'Apple', '4': 'Four'}"
      ]
     },
     "execution_count": 33,
     "metadata": {},
     "output_type": "execute_result"
    }
   ],
   "source": [
    "f"
   ]
  },
  {
   "cell_type": "code",
   "execution_count": 34,
   "id": "2cdf230a",
   "metadata": {},
   "outputs": [],
   "source": [
    "f[\"list\"]=\"[1,2,3,4,4]\""
   ]
  },
  {
   "cell_type": "code",
   "execution_count": 35,
   "id": "54c0e86d",
   "metadata": {},
   "outputs": [
    {
     "data": {
      "text/plain": [
       "{'fruit': 'Apple', '4': 'Four', 'list': '[1,2,3,4,4]'}"
      ]
     },
     "execution_count": 35,
     "metadata": {},
     "output_type": "execute_result"
    }
   ],
   "source": [
    "f"
   ]
  },
  {
   "cell_type": "code",
   "execution_count": 36,
   "id": "ac9b9e64",
   "metadata": {},
   "outputs": [
    {
     "data": {
      "text/plain": [
       "'['"
      ]
     },
     "execution_count": 36,
     "metadata": {},
     "output_type": "execute_result"
    }
   ],
   "source": [
    "f[\"list\"][0]"
   ]
  },
  {
   "cell_type": "code",
   "execution_count": 37,
   "id": "ddb46e52",
   "metadata": {},
   "outputs": [
    {
     "data": {
      "text/plain": [
       "'1'"
      ]
     },
     "execution_count": 37,
     "metadata": {},
     "output_type": "execute_result"
    }
   ],
   "source": [
    "f[\"list\"][1]"
   ]
  },
  {
   "cell_type": "code",
   "execution_count": 38,
   "id": "a5392aef",
   "metadata": {},
   "outputs": [
    {
     "data": {
      "text/plain": [
       "'A'"
      ]
     },
     "execution_count": 38,
     "metadata": {},
     "output_type": "execute_result"
    }
   ],
   "source": [
    "f[\"fruit\"][0]"
   ]
  },
  {
   "cell_type": "code",
   "execution_count": 39,
   "id": "244c72b3",
   "metadata": {},
   "outputs": [
    {
     "data": {
      "text/plain": [
       "'APPLE'"
      ]
     },
     "execution_count": 39,
     "metadata": {},
     "output_type": "execute_result"
    }
   ],
   "source": [
    "f[\"fruit\"].upper()"
   ]
  },
  {
   "cell_type": "code",
   "execution_count": null,
   "id": "c51c8173",
   "metadata": {},
   "outputs": [],
   "source": []
  }
 ],
 "metadata": {
  "kernelspec": {
   "display_name": "Python 3 (ipykernel)",
   "language": "python",
   "name": "python3"
  },
  "language_info": {
   "codemirror_mode": {
    "name": "ipython",
    "version": 3
   },
   "file_extension": ".py",
   "mimetype": "text/x-python",
   "name": "python",
   "nbconvert_exporter": "python",
   "pygments_lexer": "ipython3",
   "version": "3.8.5"
  }
 },
 "nbformat": 4,
 "nbformat_minor": 5
}
