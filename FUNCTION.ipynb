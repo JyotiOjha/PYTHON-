{
 "cells": [
  {
   "cell_type": "markdown",
   "id": "5db16800",
   "metadata": {},
   "source": [
    "FUNCTIONS:\n",
    "  1. FUNCTION DEFINITION\n",
    "  2. FUNCTION CALLING\n",
    "  3. USE OF RETURN\n",
    "  4. PASSING ARGUMENTS\n",
    "  5. EXAMPLE\n",
    "  6. Arbitrary arguments\n",
    "  7. Keyword arbitrary arguments\n",
    "  "
   ]
  },
  {
   "cell_type": "markdown",
   "id": "6c2bbafc",
   "metadata": {},
   "source": [
    "# Basic syntax of a function\n",
    "def function_name(arg1,arg2):\n",
    "        "
   ]
  },
  {
   "cell_type": "code",
   "execution_count": 1,
   "id": "02db212d",
   "metadata": {},
   "outputs": [],
   "source": [
    "def add(a,b):\n",
    "    print(a+b)"
   ]
  },
  {
   "cell_type": "code",
   "execution_count": 2,
   "id": "c25c4c04",
   "metadata": {},
   "outputs": [
    {
     "name": "stdout",
     "output_type": "stream",
     "text": [
      "25\n"
     ]
    }
   ],
   "source": [
    "add(12,13)"
   ]
  },
  {
   "cell_type": "code",
   "execution_count": 3,
   "id": "2418554a",
   "metadata": {},
   "outputs": [],
   "source": [
    "# Function using return \n",
    "def add1(a,b):\n",
    "    return (a+b)"
   ]
  },
  {
   "cell_type": "code",
   "execution_count": 4,
   "id": "6f4e4463",
   "metadata": {},
   "outputs": [
    {
     "data": {
      "text/plain": [
       "25"
      ]
     },
     "execution_count": 4,
     "metadata": {},
     "output_type": "execute_result"
    }
   ],
   "source": [
    "add1(12,13)"
   ]
  },
  {
   "cell_type": "code",
   "execution_count": 5,
   "id": "aff4ae5e",
   "metadata": {},
   "outputs": [],
   "source": [
    "def add3(a,b):\n",
    "    c=a+b\n",
    "    print(c)"
   ]
  },
  {
   "cell_type": "code",
   "execution_count": 6,
   "id": "c418c476",
   "metadata": {},
   "outputs": [
    {
     "name": "stdout",
     "output_type": "stream",
     "text": [
      "5\n"
     ]
    }
   ],
   "source": [
    "add3(2,3)"
   ]
  },
  {
   "cell_type": "code",
   "execution_count": 7,
   "id": "2f6b3326",
   "metadata": {},
   "outputs": [],
   "source": [
    "c=10"
   ]
  },
  {
   "cell_type": "code",
   "execution_count": 8,
   "id": "e290bae9",
   "metadata": {},
   "outputs": [
    {
     "data": {
      "text/plain": [
       "10"
      ]
     },
     "execution_count": 8,
     "metadata": {},
     "output_type": "execute_result"
    }
   ],
   "source": [
    "c"
   ]
  },
  {
   "cell_type": "code",
   "execution_count": 9,
   "id": "67a4f655",
   "metadata": {},
   "outputs": [],
   "source": [
    "c=10\n",
    "def add4(a,b):\n",
    "    c=9"
   ]
  },
  {
   "cell_type": "code",
   "execution_count": 10,
   "id": "78f261ba",
   "metadata": {},
   "outputs": [
    {
     "data": {
      "text/plain": [
       "10"
      ]
     },
     "execution_count": 10,
     "metadata": {},
     "output_type": "execute_result"
    }
   ],
   "source": [
    "c"
   ]
  },
  {
   "cell_type": "code",
   "execution_count": 11,
   "id": "11388d87",
   "metadata": {},
   "outputs": [],
   "source": [
    "#Function to checK whether a given number is prime\n",
    "def prime(a):\n",
    "    for n in range(2,a):\n",
    "        if(a%n==0):\n",
    "            print(\"Is not prime\")\n",
    "            break\n",
    "        else:\n",
    "            print(\"Is prime\")\n",
    "            "
   ]
  },
  {
   "cell_type": "code",
   "execution_count": 12,
   "id": "db647ce8",
   "metadata": {},
   "outputs": [
    {
     "name": "stdout",
     "output_type": "stream",
     "text": [
      "Is prime\n"
     ]
    }
   ],
   "source": [
    "prime(3)"
   ]
  },
  {
   "cell_type": "code",
   "execution_count": 13,
   "id": "e67f51c2",
   "metadata": {},
   "outputs": [
    {
     "name": "stdout",
     "output_type": "stream",
     "text": [
      "Is not prime\n"
     ]
    }
   ],
   "source": [
    "prime(22)"
   ]
  },
  {
   "cell_type": "code",
   "execution_count": 14,
   "id": "ebccba4e",
   "metadata": {},
   "outputs": [
    {
     "name": "stdout",
     "output_type": "stream",
     "text": [
      "Is not prime\n"
     ]
    }
   ],
   "source": [
    "prime(18)"
   ]
  },
  {
   "cell_type": "code",
   "execution_count": 15,
   "id": "4e7ed90d",
   "metadata": {},
   "outputs": [],
   "source": [
    "# Arbitrary arguments : *args"
   ]
  },
  {
   "cell_type": "code",
   "execution_count": 16,
   "id": "73b01590",
   "metadata": {},
   "outputs": [],
   "source": [
    "def hello(*names):\n",
    "    for name in names:\n",
    "        print(\"hello \"+name)"
   ]
  },
  {
   "cell_type": "code",
   "execution_count": 17,
   "id": "24f25ed1",
   "metadata": {},
   "outputs": [
    {
     "name": "stdout",
     "output_type": "stream",
     "text": [
      "hello A\n",
      "hello B\n",
      "hello C\n",
      "hello D\n"
     ]
    }
   ],
   "source": [
    "hello(\"A\",\"B\",\"C\",\"D\")"
   ]
  },
  {
   "cell_type": "code",
   "execution_count": 18,
   "id": "3466ae65",
   "metadata": {},
   "outputs": [],
   "source": [
    "#Keyword arguments\n",
    "\n",
    "def family(father,mother,son,daughter):\n",
    "    print(\"The father is \"+ father)"
   ]
  },
  {
   "cell_type": "code",
   "execution_count": 19,
   "id": "4b829cb7",
   "metadata": {},
   "outputs": [
    {
     "name": "stdout",
     "output_type": "stream",
     "text": [
      "The father is X\n"
     ]
    }
   ],
   "source": [
    "family(father = \"X\", mother = \"Y\",son=\"Z\",daughter = \"V\")"
   ]
  },
  {
   "cell_type": "code",
   "execution_count": 20,
   "id": "253fa874",
   "metadata": {},
   "outputs": [],
   "source": [
    "# Arbitrary keyword argument = **kwargs"
   ]
  },
  {
   "cell_type": "code",
   "execution_count": 21,
   "id": "e4c24d7f",
   "metadata": {},
   "outputs": [],
   "source": [
    "def name(**a):\n",
    "    print(\"First name is \",a[\"firstname\"])"
   ]
  },
  {
   "cell_type": "code",
   "execution_count": 22,
   "id": "8e1198a3",
   "metadata": {},
   "outputs": [
    {
     "name": "stdout",
     "output_type": "stream",
     "text": [
      "First name is  Jyoti\n"
     ]
    }
   ],
   "source": [
    "name(firstname=\"Jyoti\",lastname=\"OJha\")"
   ]
  },
  {
   "cell_type": "code",
   "execution_count": 23,
   "id": "04cec582",
   "metadata": {},
   "outputs": [],
   "source": [
    "#Function using list as argument\n",
    "def func(hobby):\n",
    "    \"\"\" This function is for hobbies \"\"\" #Docstrings\n",
    "    for x in hobby:\n",
    "        print(x)"
   ]
  },
  {
   "cell_type": "code",
   "execution_count": 24,
   "id": "b82277b5",
   "metadata": {},
   "outputs": [],
   "source": [
    "hobby=[\"swimming\",\"singing\"]"
   ]
  },
  {
   "cell_type": "code",
   "execution_count": 25,
   "id": "fd90357e",
   "metadata": {},
   "outputs": [
    {
     "name": "stdout",
     "output_type": "stream",
     "text": [
      "swimming\n",
      "singing\n"
     ]
    }
   ],
   "source": [
    "func(hobby)"
   ]
  },
  {
   "cell_type": "code",
   "execution_count": 26,
   "id": "3fb98449",
   "metadata": {},
   "outputs": [],
   "source": [
    "# Default parameter value\n",
    "\n",
    "def func1(fruit=\"Apple\"):\n",
    "    print(\"I love \"+fruit)"
   ]
  },
  {
   "cell_type": "code",
   "execution_count": 27,
   "id": "b72b8aa6",
   "metadata": {},
   "outputs": [
    {
     "name": "stdout",
     "output_type": "stream",
     "text": [
      "I love Apple\n"
     ]
    }
   ],
   "source": [
    "func1()"
   ]
  },
  {
   "cell_type": "code",
   "execution_count": 28,
   "id": "ec4f629a",
   "metadata": {},
   "outputs": [
    {
     "name": "stdout",
     "output_type": "stream",
     "text": [
      "I love Mango\n"
     ]
    }
   ],
   "source": [
    "func1(\"Mango\")"
   ]
  },
  {
   "cell_type": "code",
   "execution_count": 29,
   "id": "e2bcfce2",
   "metadata": {},
   "outputs": [],
   "source": [
    "# DOCSTRINGS : These are used to define the purpose of the given fuction and can be accessed later to check the purpose of defined function.\n",
    "# Docstrings are defined/written at the construction time.\n"
   ]
  },
  {
   "cell_type": "code",
   "execution_count": 30,
   "id": "65627a57",
   "metadata": {},
   "outputs": [
    {
     "name": "stdout",
     "output_type": "stream",
     "text": [
      " This function is for hobbies \n"
     ]
    }
   ],
   "source": [
    "# Let's see how to access the doctring which we defined while making function func.\n",
    "print(func.__doc__)"
   ]
  },
  {
   "cell_type": "code",
   "execution_count": 31,
   "id": "38612172",
   "metadata": {},
   "outputs": [],
   "source": [
    "#As we can see above that we defined a function func somewhere at an early stage and with the use of docstrings we can check the use of that function later and can use it if needed."
   ]
  },
  {
   "cell_type": "code",
   "execution_count": null,
   "id": "922e8630",
   "metadata": {},
   "outputs": [],
   "source": []
  }
 ],
 "metadata": {
  "kernelspec": {
   "display_name": "Python 3 (ipykernel)",
   "language": "python",
   "name": "python3"
  },
  "language_info": {
   "codemirror_mode": {
    "name": "ipython",
    "version": 3
   },
   "file_extension": ".py",
   "mimetype": "text/x-python",
   "name": "python",
   "nbconvert_exporter": "python",
   "pygments_lexer": "ipython3",
   "version": "3.8.5"
  }
 },
 "nbformat": 4,
 "nbformat_minor": 5
}
